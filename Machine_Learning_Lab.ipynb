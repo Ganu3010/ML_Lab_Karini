{
  "cells": [
    {
      "cell_type": "markdown",
      "metadata": {
        "id": "AkEy86lJ4Cub"
      },
      "source": [
        "# <a name=\"0\">Machine Learning Lab\n",
        "\n",
        "Build a classfier to predict the __label__ field (substitute or not substitute) of the product substitute dataset.\n",
        "\n",
        "### Final Project Problem: Product Substitute Prediction\n",
        "\n",
        "__Problem Definition__:\n",
        "Given a pair of products, (A, B), we say that B is a \"substitute\" for A if a customer would buy B in place of A -- say, if A were out of stock.\n",
        "\n",
        "The goal of this project is to predict a substitute relationship between pairs of products. Complete the tasks in this notebook and submit your notebook via Colab  \n",
        "\n",
        "1. <a href=\"#1\">Read the datasets</a> (Given)\n",
        "2. <a href=\"#2\">Data Processing</a> (Implement)\n",
        "    * <a href=\"#21\">Exploratory Data Analysis</a>\n",
        "    * <a href=\"#22\">Select features to build the model</a> (Suggested)\n",
        "    * <a href=\"#23\">Train - Validation - Test Datasets</a>\n",
        "    * <a href=\"#24\">Data Processing with Pipeline</a>\n",
        "3. <a href=\"#3\">Train (and Tune) a Classifier on the Training Dataset</a> (Implement)\n",
        "4. <a href=\"#3\">Make Predictions on the Test Dataset</a> (Implement)\n",
        "\n",
        "\n",
        "__Datasets and Files:__\n",
        "\n",
        "\n",
        "* __training.csv__: Training data with product pair features and corresponding labels:\n",
        "> - `ID:` ID of the record\n",
        "> - `label:` Tells whether the key and candidate products are substitutes (1) or not (0).\n",
        "> - `key_asin ...:` Key product ASIN features\n",
        "> - `cand_asin ...:` Candidate product ASIN features\n",
        "\n",
        "\n",
        "* __public_test_features.csv__: Test data with product pairs features __without__ labels:\n",
        "> - `ID:` ID of the record\n",
        "> - `key_asin ...:` Key product ASIN features\n",
        "> - `cand_asin ...:` Candidate product ASIN features\n",
        "\n",
        "\n",
        "* __metadata-dataset.xlsx__: Provides detailed information about all key_ and cand_ columns in the training and test sets. Try to select some useful features to include in the model, as not all of them are suitable. `|Region Id|MarketPlace Id|ASIN|Binding Code|binding_description|brand_code|case_pack_quantity|, ...`\n"
      ]
    },
    {
      "cell_type": "code",
      "source": [
        "import pickle\n",
        "import os\n",
        "import numpy as np\n",
        "import pandas as pd\n",
        "import matplotlib.pyplot as plt\n",
        "from sklearn.model_selection import train_test_split\n",
        "from sklearn.preprocessing import StandardScaler\n",
        "from sklearn.ensemble import RandomForestClassifier, AdaBoostClassifier, HistGradientBoostingClassifier, VotingClassifier\n",
        "from sklearn.metrics import classification_report\n",
        "from sklearn.tree import DecisionTreeClassifier\n",
        "from sklearn.linear_model import LogisticRegression\n",
        "from sklearn.svm import SVC"
      ],
      "metadata": {
        "id": "2y2X8QHcESvx"
      },
      "execution_count": 33,
      "outputs": []
    },
    {
      "cell_type": "markdown",
      "metadata": {
        "id": "ubosr2Nq4Cuf"
      },
      "source": [
        "## 1. <a name=\"1\">Read the datasets</a> (Given)\n",
        "(<a href=\"#0\">Go to top</a>)\n",
        "</br>\n",
        "<a href=\"https://propensity-labs-screening.s3.amazonaws.com/machine_learning/ml_data.zip\">Download Dataset</a>"
      ]
    },
    {
      "cell_type": "code",
      "source": [
        "!wget https://propensity-labs-screening.s3.amazonaws.com/machine_learning/ml_data.zip\n",
        "!unzip ml_data.zip"
      ],
      "metadata": {
        "colab": {
          "base_uri": "https://localhost:8080/"
        },
        "id": "a0v_HByXEB9_",
        "outputId": "5cc936d9-5c05-4b01-dfaa-81cd81ac928a"
      },
      "execution_count": 2,
      "outputs": [
        {
          "output_type": "stream",
          "name": "stdout",
          "text": [
            "--2024-03-23 14:36:38--  https://propensity-labs-screening.s3.amazonaws.com/machine_learning/ml_data.zip\n",
            "Resolving propensity-labs-screening.s3.amazonaws.com (propensity-labs-screening.s3.amazonaws.com)... 3.5.8.148, 3.5.25.48, 52.217.134.153, ...\n",
            "Connecting to propensity-labs-screening.s3.amazonaws.com (propensity-labs-screening.s3.amazonaws.com)|3.5.8.148|:443... connected.\n",
            "HTTP request sent, awaiting response... 200 OK\n",
            "Length: 16176444 (15M) [application/zip]\n",
            "Saving to: ‘ml_data.zip’\n",
            "\n",
            "ml_data.zip         100%[===================>]  15.43M  11.4MB/s    in 1.4s    \n",
            "\n",
            "2024-03-23 14:36:40 (11.4 MB/s) - ‘ml_data.zip’ saved [16176444/16176444]\n",
            "\n",
            "Archive:  ml_data.zip\n",
            "   creating: ml_data/\n",
            "  inflating: __MACOSX/._ml_data      \n",
            "  inflating: ml_data/training.csv    \n",
            "  inflating: __MACOSX/ml_data/._training.csv  \n",
            "  inflating: ml_data/metadata-dataset.xlsx  \n",
            "  inflating: __MACOSX/ml_data/._metadata-dataset.xlsx  \n",
            "  inflating: ml_data/public_test_features.csv  \n",
            "  inflating: __MACOSX/ml_data/._public_test_features.csv  \n"
          ]
        }
      ]
    },
    {
      "cell_type": "code",
      "source": [
        "df = pd.read_csv('/content/ml_data/training.csv')\n",
        "test_data = pd.read_csv('/content/ml_data/public_test_features.csv')\n",
        "\n",
        "cols = ['key_product_type', 'key_item_height', 'key_item_length',\n",
        "        'key_item_weight', 'key_item_width', 'cand_product_type',\n",
        "        'cand_item_height','cand_item_length', 'cand_item_weight',\n",
        "        'cand_item_width']\n",
        "wdf = df[cols]\n",
        "test_data = test_data[cols]\n",
        "\n",
        "wdf['label'] = df['label']"
      ],
      "metadata": {
        "colab": {
          "base_uri": "https://localhost:8080/"
        },
        "id": "4o690a55D5Cm",
        "outputId": "ff22c431-ed69-4195-8377-4042142e0f5b"
      },
      "execution_count": 65,
      "outputs": [
        {
          "output_type": "stream",
          "name": "stderr",
          "text": [
            "<ipython-input-65-857630f41aa7>:1: DtypeWarning: Columns (34,139,154,157,212) have mixed types. Specify dtype option on import or set low_memory=False.\n",
            "  df = pd.read_csv('/content/ml_data/training.csv')\n",
            "<ipython-input-65-857630f41aa7>:2: DtypeWarning: Columns (134,138,156,197,211) have mixed types. Specify dtype option on import or set low_memory=False.\n",
            "  test_data = pd.read_csv('/content/ml_data/public_test_features.csv')\n",
            "<ipython-input-65-857630f41aa7>:11: SettingWithCopyWarning: \n",
            "A value is trying to be set on a copy of a slice from a DataFrame.\n",
            "Try using .loc[row_indexer,col_indexer] = value instead\n",
            "\n",
            "See the caveats in the documentation: https://pandas.pydata.org/pandas-docs/stable/user_guide/indexing.html#returning-a-view-versus-a-copy\n",
            "  wdf['label'] = df['label']\n"
          ]
        }
      ]
    },
    {
      "cell_type": "code",
      "source": [
        "# Utility dictionary to transform product IDs\n",
        "if os.path.exists('transform.pkl'):\n",
        "  with open('transform.pkl', 'rb+') as f:\n",
        "    transform = pickle.load(f)\n",
        "else:\n",
        "  kpt = list(sorted(df['key_product_type'].unique()))\n",
        "  for i in sorted(df['cand_product_type'].unique()):\n",
        "    kpt.append(i)\n",
        "  kpt = list(set(kpt))\n",
        "  for i in sorted(test_data['cand_product_type'].unique()):\n",
        "    kpt.append(i)\n",
        "  kpt = list(set(kpt))\n",
        "  transform = {}\n",
        "  c = 0\n",
        "  for i in kpt:\n",
        "    transform[i] = c\n",
        "    c+=1\n",
        "  with open('transform.pkl', 'wb+') as f:\n",
        "    pickle.dump(transform, f)"
      ],
      "metadata": {
        "id": "t6eL000CDQZU"
      },
      "execution_count": 66,
      "outputs": []
    },
    {
      "cell_type": "markdown",
      "metadata": {
        "id": "sCyv5Vff4Cuf"
      },
      "source": [
        "Then, we read the __training__ and __test__ datasets into dataframes"
      ]
    },
    {
      "cell_type": "markdown",
      "metadata": {
        "id": "NukXQipp4Cul"
      },
      "source": [
        "## 2. <a name=\"2\">Data Processing</a> (Implement)\n",
        "(<a href=\"#0\">Go to top</a>)\n",
        "\n",
        "### 2.1 <a name=\"21\">Exploratory Data Analysis</a>\n",
        "\n",
        "We look at number of rows, columns, and some simple statistics of the datasets."
      ]
    },
    {
      "cell_type": "code",
      "source": [
        "wdf.info()"
      ],
      "metadata": {
        "colab": {
          "base_uri": "https://localhost:8080/"
        },
        "id": "VyN9Da4KeDLX",
        "outputId": "880ed68d-6398-4847-fca3-f78fc5aa1c7f"
      },
      "execution_count": 36,
      "outputs": [
        {
          "output_type": "stream",
          "name": "stdout",
          "text": [
            "<class 'pandas.core.frame.DataFrame'>\n",
            "RangeIndex: 36803 entries, 0 to 36802\n",
            "Data columns (total 11 columns):\n",
            " #   Column             Non-Null Count  Dtype  \n",
            "---  ------             --------------  -----  \n",
            " 0   key_product_type   36803 non-null  object \n",
            " 1   key_item_height    26453 non-null  float64\n",
            " 2   key_item_length    26453 non-null  float64\n",
            " 3   key_item_weight    22635 non-null  float64\n",
            " 4   key_item_width     26453 non-null  float64\n",
            " 5   cand_product_type  36803 non-null  object \n",
            " 6   cand_item_height   21865 non-null  float64\n",
            " 7   cand_item_length   21865 non-null  float64\n",
            " 8   cand_item_weight   19191 non-null  float64\n",
            " 9   cand_item_width    21865 non-null  float64\n",
            " 10  label              36803 non-null  int64  \n",
            "dtypes: float64(8), int64(1), object(2)\n",
            "memory usage: 3.1+ MB\n"
          ]
        }
      ]
    },
    {
      "cell_type": "code",
      "source": [
        "wdf['key_product_type'] = wdf['key_product_type'].apply(lambda x: transform[x])\n",
        "wdf['cand_product_type'] = wdf['cand_product_type'].apply(lambda x: transform[x])"
      ],
      "metadata": {
        "colab": {
          "base_uri": "https://localhost:8080/"
        },
        "id": "yX7yNEDwYWsC",
        "outputId": "e66760e5-1f40-4280-dce7-c47cc97db579"
      },
      "execution_count": 37,
      "outputs": [
        {
          "output_type": "stream",
          "name": "stderr",
          "text": [
            "<ipython-input-37-3c0c9fe63d5f>:1: SettingWithCopyWarning: \n",
            "A value is trying to be set on a copy of a slice from a DataFrame.\n",
            "Try using .loc[row_indexer,col_indexer] = value instead\n",
            "\n",
            "See the caveats in the documentation: https://pandas.pydata.org/pandas-docs/stable/user_guide/indexing.html#returning-a-view-versus-a-copy\n",
            "  wdf['key_product_type'] = wdf['key_product_type'].apply(lambda x: transform[x])\n",
            "<ipython-input-37-3c0c9fe63d5f>:2: SettingWithCopyWarning: \n",
            "A value is trying to be set on a copy of a slice from a DataFrame.\n",
            "Try using .loc[row_indexer,col_indexer] = value instead\n",
            "\n",
            "See the caveats in the documentation: https://pandas.pydata.org/pandas-docs/stable/user_guide/indexing.html#returning-a-view-versus-a-copy\n",
            "  wdf['cand_product_type'] = wdf['cand_product_type'].apply(lambda x: transform[x])\n"
          ]
        }
      ]
    },
    {
      "cell_type": "code",
      "source": [
        "wdf.info()"
      ],
      "metadata": {
        "colab": {
          "base_uri": "https://localhost:8080/"
        },
        "id": "Rn3CQ4wYYovd",
        "outputId": "1d6d9e54-fdec-4db7-da94-545e5b3df05a"
      },
      "execution_count": 38,
      "outputs": [
        {
          "output_type": "stream",
          "name": "stdout",
          "text": [
            "<class 'pandas.core.frame.DataFrame'>\n",
            "RangeIndex: 36803 entries, 0 to 36802\n",
            "Data columns (total 11 columns):\n",
            " #   Column             Non-Null Count  Dtype  \n",
            "---  ------             --------------  -----  \n",
            " 0   key_product_type   36803 non-null  int64  \n",
            " 1   key_item_height    26453 non-null  float64\n",
            " 2   key_item_length    26453 non-null  float64\n",
            " 3   key_item_weight    22635 non-null  float64\n",
            " 4   key_item_width     26453 non-null  float64\n",
            " 5   cand_product_type  36803 non-null  int64  \n",
            " 6   cand_item_height   21865 non-null  float64\n",
            " 7   cand_item_length   21865 non-null  float64\n",
            " 8   cand_item_weight   19191 non-null  float64\n",
            " 9   cand_item_width    21865 non-null  float64\n",
            " 10  label              36803 non-null  int64  \n",
            "dtypes: float64(8), int64(3)\n",
            "memory usage: 3.1 MB\n"
          ]
        }
      ]
    },
    {
      "cell_type": "code",
      "execution_count": 39,
      "metadata": {
        "id": "5AETRVq44Cum",
        "colab": {
          "base_uri": "https://localhost:8080/",
          "height": 426
        },
        "outputId": "b1a64ba0-14b6-4408-8397-d1299d1032f1"
      },
      "outputs": [
        {
          "output_type": "execute_result",
          "data": {
            "text/plain": [
              "(array([18214.,     0.,     0.,     0.,     0.,     0.,     0.,     0.,\n",
              "            0., 18589.]),\n",
              " array([0. , 0.1, 0.2, 0.3, 0.4, 0.5, 0.6, 0.7, 0.8, 0.9, 1. ]),\n",
              " <BarContainer object of 10 artists>)"
            ]
          },
          "metadata": {},
          "execution_count": 39
        },
        {
          "output_type": "display_data",
          "data": {
            "text/plain": [
              "<Figure size 750x350 with 1 Axes>"
            ],
            "image/png": "[encoded data removed]"
          },
          "metadata": {}
        }
      ],
      "source": [
        "# Implement EDA here\n",
        "plt.hist(wdf['label'])"
      ]
    },
    {
      "cell_type": "markdown",
      "source": [
        "- Label histogram indicates normal (non-skewed) distribution of data."
      ],
      "metadata": {
        "id": "ri6_Zh40oUUG"
      }
    },
    {
      "cell_type": "code",
      "source": [
        "plt.rcParams[\"figure.figsize\"] = [7.50, 3.50]\n",
        "plt.rcParams[\"figure.autolayout\"] = True\n",
        "\n",
        "fig, axes = plt.subplots(1, 2)\n",
        "\n",
        "wdf.hist('key_product_type', ax = axes[0])\n",
        "wdf.hist('cand_product_type', ax = axes[1])"
      ],
      "metadata": {
        "colab": {
          "base_uri": "https://localhost:8080/",
          "height": 374
        },
        "id": "JphFElCqErcn",
        "outputId": "f3b5d3a4-23cf-4e9e-f0be-1e8d9bb09b74"
      },
      "execution_count": 40,
      "outputs": [
        {
          "output_type": "execute_result",
          "data": {
            "text/plain": [
              "array([<Axes: title={'center': 'cand_product_type'}>], dtype=object)"
            ]
          },
          "metadata": {},
          "execution_count": 40
        },
        {
          "output_type": "display_data",
          "data": {
            "text/plain": [
              "<Figure size 750x350 with 2 Axes>"
            ],
            "image/png": "[encoded data removed]"
          },
          "metadata": {}
        }
      ]
    },
    {
      "cell_type": "markdown",
      "source": [
        "- Similar trend in key product and candidate product is interesting.\n",
        "- Taking one of the features as (key_product_type - cand_product_type) could boost results."
      ],
      "metadata": {
        "id": "CrauoCddqdY9"
      }
    },
    {
      "cell_type": "markdown",
      "metadata": {
        "id": "23T5pcGb4Cun"
      },
      "source": [
        "### 2.2 <a name=\"22\">Select features to build the model</a>\n",
        "\n",
        "For a quick start, we recommend using only a few of the numerical features for both key_ and cand_ ASINs: __item_package_quantity__, __item_height__, __item_width__, __item_length__, __item_weight__, __pkg_height__, __pkg_width__, __pkg_length__, __pkg_weight__. Feel free to explore other fields from the metadata-dataset.xlsx file.\n"
      ]
    },
    {
      "cell_type": "code",
      "source": [
        "wdf['type_change'] = wdf['key_product_type'] - wdf['cand_product_type']\n",
        "wdf['type_change'].hist()"
      ],
      "metadata": {
        "colab": {
          "base_uri": "https://localhost:8080/",
          "height": 478
        },
        "id": "FLeFpbe-pumD",
        "outputId": "e3c30ef0-b842-4e23-9831-0b567caf63f1"
      },
      "execution_count": 41,
      "outputs": [
        {
          "output_type": "stream",
          "name": "stderr",
          "text": [
            "<ipython-input-41-a6ef212ce899>:1: SettingWithCopyWarning: \n",
            "A value is trying to be set on a copy of a slice from a DataFrame.\n",
            "Try using .loc[row_indexer,col_indexer] = value instead\n",
            "\n",
            "See the caveats in the documentation: https://pandas.pydata.org/pandas-docs/stable/user_guide/indexing.html#returning-a-view-versus-a-copy\n",
            "  wdf['type_change'] = wdf['key_product_type'] - wdf['cand_product_type']\n"
          ]
        },
        {
          "output_type": "execute_result",
          "data": {
            "text/plain": [
              "<Axes: >"
            ]
          },
          "metadata": {},
          "execution_count": 41
        },
        {
          "output_type": "display_data",
          "data": {
            "text/plain": [
              "<Figure size 750x350 with 1 Axes>"
            ],
            "image/png": "[encoded data removed]"
          },
          "metadata": {}
        }
      ]
    },
    {
      "cell_type": "markdown",
      "source": [
        "- Using the difference in types could possibly lead to better results"
      ],
      "metadata": {
        "id": "X-1Roxnwqrwb"
      }
    },
    {
      "cell_type": "code",
      "execution_count": 42,
      "metadata": {
        "id": "7_ICst2B4Cun"
      },
      "outputs": [],
      "source": [
        "# Splitting data into features (X) and labels (y)\n",
        "X = wdf.drop(['label'], axis = 1)\n",
        "y = wdf['label']"
      ]
    },
    {
      "cell_type": "code",
      "source": [
        "X.info()"
      ],
      "metadata": {
        "colab": {
          "base_uri": "https://localhost:8080/"
        },
        "id": "-N8VtP4MCrMh",
        "outputId": "5e9cc445-0ad5-45e4-bf53-611703940797"
      },
      "execution_count": 43,
      "outputs": [
        {
          "output_type": "stream",
          "name": "stdout",
          "text": [
            "<class 'pandas.core.frame.DataFrame'>\n",
            "RangeIndex: 36803 entries, 0 to 36802\n",
            "Data columns (total 11 columns):\n",
            " #   Column             Non-Null Count  Dtype  \n",
            "---  ------             --------------  -----  \n",
            " 0   key_product_type   36803 non-null  int64  \n",
            " 1   key_item_height    26453 non-null  float64\n",
            " 2   key_item_length    26453 non-null  float64\n",
            " 3   key_item_weight    22635 non-null  float64\n",
            " 4   key_item_width     26453 non-null  float64\n",
            " 5   cand_product_type  36803 non-null  int64  \n",
            " 6   cand_item_height   21865 non-null  float64\n",
            " 7   cand_item_length   21865 non-null  float64\n",
            " 8   cand_item_weight   19191 non-null  float64\n",
            " 9   cand_item_width    21865 non-null  float64\n",
            " 10  type_change        36803 non-null  int64  \n",
            "dtypes: float64(8), int64(3)\n",
            "memory usage: 3.1 MB\n"
          ]
        }
      ]
    },
    {
      "cell_type": "code",
      "source": [
        "X.head()"
      ],
      "metadata": {
        "colab": {
          "base_uri": "https://localhost:8080/",
          "height": 226
        },
        "id": "4G2qKc9nyXiP",
        "outputId": "a09f42f1-80dc-4290-c3c2-9ca47d0bbf18"
      },
      "execution_count": 44,
      "outputs": [
        {
          "output_type": "execute_result",
          "data": {
            "text/plain": [
              "   key_product_type  key_item_height  key_item_length  key_item_weight  \\\n",
              "0               267             1.00            86.00         6.000000   \n",
              "1               155             2.00             2.50              NaN   \n",
              "2               187             0.83             5.94         0.789375   \n",
              "3               230              NaN              NaN              NaN   \n",
              "4               139             9.33             2.75         0.438000   \n",
              "\n",
              "   key_item_width  cand_product_type  cand_item_height  cand_item_length  \\\n",
              "0           66.00                205           0.00000           40.0000   \n",
              "1            0.10                116           0.30000            6.7500   \n",
              "2            2.24                 98           0.86614            2.3622   \n",
              "3             NaN                192           2.36000           10.2400   \n",
              "4            7.50                139           8.50000           11.7500   \n",
              "\n",
              "   cand_item_weight  cand_item_width  type_change  \n",
              "0          0.530000         18.00000           62  \n",
              "1          0.110231          4.50000           39  \n",
              "2          0.396832          3.62204           89  \n",
              "3          3.480000         20.29000           38  \n",
              "4               NaN          9.87500            0  "
            ],
            "text/html": [
              "\n",
              "  <div id=\"df-f20e9734-8cb5-492b-849d-0fec2afcc7c8\" class=\"colab-df-container\">\n",
              "    <div>\n",
              "<style scoped>\n",
              "    .dataframe tbody tr th:only-of-type {\n",
              "        vertical-align: middle;\n",
              "    }\n",
              "\n",
              "    .dataframe tbody tr th {\n",
              "        vertical-align: top;\n",
              "    }\n",
              "\n",
              "    .dataframe thead th {\n",
              "        text-align: right;\n",
              "    }\n",
              "</style>\n",
              "<table border=\"1\" class=\"dataframe\">\n",
              "  <thead>\n",
              "    <tr style=\"text-align: right;\">\n",
              "      <th></th>\n",
              "      <th>key_product_type</th>\n",
              "      <th>key_item_height</th>\n",
              "      <th>key_item_length</th>\n",
              "      <th>key_item_weight</th>\n",
              "      <th>key_item_width</th>\n",
              "      <th>cand_product_type</th>\n",
              "      <th>cand_item_height</th>\n",
              "      <th>cand_item_length</th>\n",
              "      <th>cand_item_weight</th>\n",
              "      <th>cand_item_width</th>\n",
              "      <th>type_change</th>\n",
              "    </tr>\n",
              "  </thead>\n",
              "  <tbody>\n",
              "    <tr>\n",
              "      <th>0</th>\n",
              "      <td>267</td>\n",
              "      <td>1.00</td>\n",
              "      <td>86.00</td>\n",
              "      <td>6.000000</td>\n",
              "      <td>66.00</td>\n",
              "      <td>205</td>\n",
              "      <td>0.00000</td>\n",
              "      <td>40.0000</td>\n",
              "      <td>0.530000</td>\n",
              "      <td>18.00000</td>\n",
              "      <td>62</td>\n",
              "    </tr>\n",
              "    <tr>\n",
              "      <th>1</th>\n",
              "      <td>155</td>\n",
              "      <td>2.00</td>\n",
              "      <td>2.50</td>\n",
              "      <td>NaN</td>\n",
              "      <td>0.10</td>\n",
              "      <td>116</td>\n",
              "      <td>0.30000</td>\n",
              "      <td>6.7500</td>\n",
              "      <td>0.110231</td>\n",
              "      <td>4.50000</td>\n",
              "      <td>39</td>\n",
              "    </tr>\n",
              "    <tr>\n",
              "      <th>2</th>\n",
              "      <td>187</td>\n",
              "      <td>0.83</td>\n",
              "      <td>5.94</td>\n",
              "      <td>0.789375</td>\n",
              "      <td>2.24</td>\n",
              "      <td>98</td>\n",
              "      <td>0.86614</td>\n",
              "      <td>2.3622</td>\n",
              "      <td>0.396832</td>\n",
              "      <td>3.62204</td>\n",
              "      <td>89</td>\n",
              "    </tr>\n",
              "    <tr>\n",
              "      <th>3</th>\n",
              "      <td>230</td>\n",
              "      <td>NaN</td>\n",
              "      <td>NaN</td>\n",
              "      <td>NaN</td>\n",
              "      <td>NaN</td>\n",
              "      <td>192</td>\n",
              "      <td>2.36000</td>\n",
              "      <td>10.2400</td>\n",
              "      <td>3.480000</td>\n",
              "      <td>20.29000</td>\n",
              "      <td>38</td>\n",
              "    </tr>\n",
              "    <tr>\n",
              "      <th>4</th>\n",
              "      <td>139</td>\n",
              "      <td>9.33</td>\n",
              "      <td>2.75</td>\n",
              "      <td>0.438000</td>\n",
              "      <td>7.50</td>\n",
              "      <td>139</td>\n",
              "      <td>8.50000</td>\n",
              "      <td>11.7500</td>\n",
              "      <td>NaN</td>\n",
              "      <td>9.87500</td>\n",
              "      <td>0</td>\n",
              "    </tr>\n",
              "  </tbody>\n",
              "</table>\n",
              "</div>\n",
              "    <div class=\"colab-df-buttons\">\n",
              "\n",
              "  <div class=\"colab-df-container\">\n",
              "    <button class=\"colab-df-convert\" onclick=\"convertToInteractive('df-f20e9734-8cb5-492b-849d-0fec2afcc7c8')\"\n",
              "            title=\"Convert this dataframe to an interactive table.\"\n",
              "            style=\"display:none;\">\n",
              "\n",
              "  <svg xmlns=\"http://www.w3.org/2000/svg\" height=\"24px\" viewBox=\"0 -960 960 960\">\n",
              "    <path d=\"M120-120v-720h720v720H120Zm60-500h600v-160H180v160Zm220 220h160v-160H400v160Zm0 220h160v-160H400v160ZM180-400h160v-160H180v160Zm440 0h160v-160H620v160ZM180-180h160v-160H180v160Zm440 0h160v-160H620v160Z\"/>\n",
              "  </svg>\n",
              "    </button>\n",
              "\n",
              "  <style>\n",
              "    .colab-df-container {\n",
              "      display:flex;\n",
              "      gap: 12px;\n",
              "    }\n",
              "\n",
              "    .colab-df-convert {\n",
              "      background-color: #E8F0FE;\n",
              "      border: none;\n",
              "      border-radius: 50%;\n",
              "      cursor: pointer;\n",
              "      display: none;\n",
              "      fill: #1967D2;\n",
              "      height: 32px;\n",
              "      padding: 0 0 0 0;\n",
              "      width: 32px;\n",
              "    }\n",
              "\n",
              "    .colab-df-convert:hover {\n",
              "      background-color: #E2EBFA;\n",
              "      box-shadow: 0px 1px 2px rgba(60, 64, 67, 0.3), 0px 1px 3px 1px rgba(60, 64, 67, 0.15);\n",
              "      fill: #174EA6;\n",
              "    }\n",
              "\n",
              "    .colab-df-buttons div {\n",
              "      margin-bottom: 4px;\n",
              "    }\n",
              "\n",
              "    [theme=dark] .colab-df-convert {\n",
              "      background-color: #3B4455;\n",
              "      fill: #D2E3FC;\n",
              "    }\n",
              "\n",
              "    [theme=dark] .colab-df-convert:hover {\n",
              "      background-color: #434B5C;\n",
              "      box-shadow: 0px 1px 3px 1px rgba(0, 0, 0, 0.15);\n",
              "      filter: drop-shadow(0px 1px 2px rgba(0, 0, 0, 0.3));\n",
              "      fill: #FFFFFF;\n",
              "    }\n",
              "  </style>\n",
              "\n",
              "    <script>\n",
              "      const buttonEl =\n",
              "        document.querySelector('#df-f20e9734-8cb5-492b-849d-0fec2afcc7c8 button.colab-df-convert');\n",
              "      buttonEl.style.display =\n",
              "        google.colab.kernel.accessAllowed ? 'block' : 'none';\n",
              "\n",
              "      async function convertToInteractive(key) {\n",
              "        const element = document.querySelector('#df-f20e9734-8cb5-492b-849d-0fec2afcc7c8');\n",
              "        const dataTable =\n",
              "          await google.colab.kernel.invokeFunction('convertToInteractive',\n",
              "                                                    [key], {});\n",
              "        if (!dataTable) return;\n",
              "\n",
              "        const docLinkHtml = 'Like what you see? Visit the ' +\n",
              "          '<a target=\"_blank\" href=https://colab.research.google.com/notebooks/data_table.ipynb>data table notebook</a>'\n",
              "          + ' to learn more about interactive tables.';\n",
              "        element.innerHTML = '';\n",
              "        dataTable['output_type'] = 'display_data';\n",
              "        await google.colab.output.renderOutput(dataTable, element);\n",
              "        const docLink = document.createElement('div');\n",
              "        docLink.innerHTML = docLinkHtml;\n",
              "        element.appendChild(docLink);\n",
              "      }\n",
              "    </script>\n",
              "  </div>\n",
              "\n",
              "\n",
              "<div id=\"df-effa4d95-01c0-41dc-806c-b015aa31fa9c\">\n",
              "  <button class=\"colab-df-quickchart\" onclick=\"quickchart('df-effa4d95-01c0-41dc-806c-b015aa31fa9c')\"\n",
              "            title=\"Suggest charts\"\n",
              "            style=\"display:none;\">\n",
              "\n",
              "<svg xmlns=\"http://www.w3.org/2000/svg\" height=\"24px\"viewBox=\"0 0 24 24\"\n",
              "     width=\"24px\">\n",
              "    <g>\n",
              "        <path d=\"M19 3H5c-1.1 0-2 .9-2 2v14c0 1.1.9 2 2 2h14c1.1 0 2-.9 2-2V5c0-1.1-.9-2-2-2zM9 17H7v-7h2v7zm4 0h-2V7h2v10zm4 0h-2v-4h2v4z\"/>\n",
              "    </g>\n",
              "</svg>\n",
              "  </button>\n",
              "\n",
              "<style>\n",
              "  .colab-df-quickchart {\n",
              "      --bg-color: #E8F0FE;\n",
              "      --fill-color: #1967D2;\n",
              "      --hover-bg-color: #E2EBFA;\n",
              "      --hover-fill-color: #174EA6;\n",
              "      --disabled-fill-color: #AAA;\n",
              "      --disabled-bg-color: #DDD;\n",
              "  }\n",
              "\n",
              "  [theme=dark] .colab-df-quickchart {\n",
              "      --bg-color: #3B4455;\n",
              "      --fill-color: #D2E3FC;\n",
              "      --hover-bg-color: #434B5C;\n",
              "      --hover-fill-color: #FFFFFF;\n",
              "      --disabled-bg-color: #3B4455;\n",
              "      --disabled-fill-color: #666;\n",
              "  }\n",
              "\n",
              "  .colab-df-quickchart {\n",
              "    background-color: var(--bg-color);\n",
              "    border: none;\n",
              "    border-radius: 50%;\n",
              "    cursor: pointer;\n",
              "    display: none;\n",
              "    fill: var(--fill-color);\n",
              "    height: 32px;\n",
              "    padding: 0;\n",
              "    width: 32px;\n",
              "  }\n",
              "\n",
              "  .colab-df-quickchart:hover {\n",
              "    background-color: var(--hover-bg-color);\n",
              "    box-shadow: 0 1px 2px rgba(60, 64, 67, 0.3), 0 1px 3px 1px rgba(60, 64, 67, 0.15);\n",
              "    fill: var(--button-hover-fill-color);\n",
              "  }\n",
              "\n",
              "  .colab-df-quickchart-complete:disabled,\n",
              "  .colab-df-quickchart-complete:disabled:hover {\n",
              "    background-color: var(--disabled-bg-color);\n",
              "    fill: var(--disabled-fill-color);\n",
              "    box-shadow: none;\n",
              "  }\n",
              "\n",
              "  .colab-df-spinner {\n",
              "    border: 2px solid var(--fill-color);\n",
              "    border-color: transparent;\n",
              "    border-bottom-color: var(--fill-color);\n",
              "    animation:\n",
              "      spin 1s steps(1) infinite;\n",
              "  }\n",
              "\n",
              "  @keyframes spin {\n",
              "    0% {\n",
              "      border-color: transparent;\n",
              "      border-bottom-color: var(--fill-color);\n",
              "      border-left-color: var(--fill-color);\n",
              "    }\n",
              "    20% {\n",
              "      border-color: transparent;\n",
              "      border-left-color: var(--fill-color);\n",
              "      border-top-color: var(--fill-color);\n",
              "    }\n",
              "    30% {\n",
              "      border-color: transparent;\n",
              "      border-left-color: var(--fill-color);\n",
              "      border-top-color: var(--fill-color);\n",
              "      border-right-color: var(--fill-color);\n",
              "    }\n",
              "    40% {\n",
              "      border-color: transparent;\n",
              "      border-right-color: var(--fill-color);\n",
              "      border-top-color: var(--fill-color);\n",
              "    }\n",
              "    60% {\n",
              "      border-color: transparent;\n",
              "      border-right-color: var(--fill-color);\n",
              "    }\n",
              "    80% {\n",
              "      border-color: transparent;\n",
              "      border-right-color: var(--fill-color);\n",
              "      border-bottom-color: var(--fill-color);\n",
              "    }\n",
              "    90% {\n",
              "      border-color: transparent;\n",
              "      border-bottom-color: var(--fill-color);\n",
              "    }\n",
              "  }\n",
              "</style>\n",
              "\n",
              "  <script>\n",
              "    async function quickchart(key) {\n",
              "      const quickchartButtonEl =\n",
              "        document.querySelector('#' + key + ' button');\n",
              "      quickchartButtonEl.disabled = true;  // To prevent multiple clicks.\n",
              "      quickchartButtonEl.classList.add('colab-df-spinner');\n",
              "      try {\n",
              "        const charts = await google.colab.kernel.invokeFunction(\n",
              "            'suggestCharts', [key], {});\n",
              "      } catch (error) {\n",
              "        console.error('Error during call to suggestCharts:', error);\n",
              "      }\n",
              "      quickchartButtonEl.classList.remove('colab-df-spinner');\n",
              "      quickchartButtonEl.classList.add('colab-df-quickchart-complete');\n",
              "    }\n",
              "    (() => {\n",
              "      let quickchartButtonEl =\n",
              "        document.querySelector('#df-effa4d95-01c0-41dc-806c-b015aa31fa9c button');\n",
              "      quickchartButtonEl.style.display =\n",
              "        google.colab.kernel.accessAllowed ? 'block' : 'none';\n",
              "    })();\n",
              "  </script>\n",
              "</div>\n",
              "\n",
              "    </div>\n",
              "  </div>\n"
            ],
            "application/vnd.google.colaboratory.intrinsic+json": {
              "type": "dataframe",
              "variable_name": "X",
              "summary": "{\n  \"name\": \"X\",\n  \"rows\": 36803,\n  \"fields\": [\n    {\n      \"column\": \"key_product_type\",\n      \"properties\": {\n        \"dtype\": \"number\",\n        \"std\": 85,\n        \"min\": 0,\n        \"max\": 296,\n        \"num_unique_values\": 146,\n        \"samples\": [\n          118,\n          209,\n          205\n        ],\n        \"semantic_type\": \"\",\n        \"description\": \"\"\n      }\n    },\n    {\n      \"column\": \"key_item_height\",\n      \"properties\": {\n        \"dtype\": \"number\",\n        \"std\": 10.07908471905621,\n        \"min\": 0.0,\n        \"max\": 108.0,\n        \"num_unique_values\": 422,\n        \"samples\": [\n          8.18,\n          16.6,\n          13.13\n        ],\n        \"semantic_type\": \"\",\n        \"description\": \"\"\n      }\n    },\n    {\n      \"column\": \"key_item_length\",\n      \"properties\": {\n        \"dtype\": \"number\",\n        \"std\": 21.40493708257017,\n        \"min\": 0.0,\n        \"max\": 360.0,\n        \"num_unique_values\": 492,\n        \"samples\": [\n          19.5,\n          14.75,\n          6.16\n        ],\n        \"semantic_type\": \"\",\n        \"description\": \"\"\n      }\n    },\n    {\n      \"column\": \"key_item_weight\",\n      \"properties\": {\n        \"dtype\": \"number\",\n        \"std\": 43.983511222035744,\n        \"min\": 0.0,\n        \"max\": 881.849048,\n        \"num_unique_values\": 447,\n        \"samples\": [\n          0.7875,\n          0.58125,\n          1.344819798\n        ],\n        \"semantic_type\": \"\",\n        \"description\": \"\"\n      }\n    },\n    {\n      \"column\": \"key_item_width\",\n      \"properties\": {\n        \"dtype\": \"number\",\n        \"std\": 16.041739914926808,\n        \"min\": 0.0,\n        \"max\": 216.0,\n        \"num_unique_values\": 447,\n        \"samples\": [\n          9.3,\n          2.43,\n          6.7\n        ],\n        \"semantic_type\": \"\",\n        \"description\": \"\"\n      }\n    },\n    {\n      \"column\": \"cand_product_type\",\n      \"properties\": {\n        \"dtype\": \"number\",\n        \"std\": 83,\n        \"min\": 0,\n        \"max\": 296,\n        \"num_unique_values\": 278,\n        \"samples\": [\n          154,\n          270,\n          195\n        ],\n        \"semantic_type\": \"\",\n        \"description\": \"\"\n      }\n    },\n    {\n      \"column\": \"cand_item_height\",\n      \"properties\": {\n        \"dtype\": \"number\",\n        \"std\": 136343.1878762136,\n        \"min\": 0.0,\n        \"max\": 20160826.0,\n        \"num_unique_values\": 2412,\n        \"samples\": [\n          0.0102362,\n          0.0082677,\n          5.200787396\n        ],\n        \"semantic_type\": \"\",\n        \"description\": \"\"\n      }\n    },\n    {\n      \"column\": \"cand_item_length\",\n      \"properties\": {\n        \"dtype\": \"number\",\n        \"std\": 417.29324634457123,\n        \"min\": 0.0,\n        \"max\": 47244.0,\n        \"num_unique_values\": 2748,\n        \"samples\": [\n          70.5,\n          23.3,\n          14.72\n        ],\n        \"semantic_type\": \"\",\n        \"description\": \"\"\n      }\n    },\n    {\n      \"column\": \"cand_item_weight\",\n      \"properties\": {\n        \"dtype\": \"number\",\n        \"std\": 38.88313025025995,\n        \"min\": 0.0,\n        \"max\": 2503.621346,\n        \"num_unique_values\": 2824,\n        \"samples\": [\n          3.88,\n          36.16,\n          0.25625\n        ],\n        \"semantic_type\": \"\",\n        \"description\": \"\"\n      }\n    },\n    {\n      \"column\": \"cand_item_width\",\n      \"properties\": {\n        \"dtype\": \"number\",\n        \"std\": 351.7150681841604,\n        \"min\": 0.0,\n        \"max\": 47244.0,\n        \"num_unique_values\": 2393,\n        \"samples\": [\n          1.14,\n          32.5,\n          12.45\n        ],\n        \"semantic_type\": \"\",\n        \"description\": \"\"\n      }\n    },\n    {\n      \"column\": \"type_change\",\n      \"properties\": {\n        \"dtype\": \"number\",\n        \"std\": 82,\n        \"min\": -292,\n        \"max\": 280,\n        \"num_unique_values\": 535,\n        \"samples\": [\n          154,\n          -65,\n          93\n        ],\n        \"semantic_type\": \"\",\n        \"description\": \"\"\n      }\n    }\n  ]\n}"
            }
          },
          "metadata": {},
          "execution_count": 44
        }
      ]
    },
    {
      "cell_type": "code",
      "source": [
        "X[X.isna().any(axis=1)]"
      ],
      "metadata": {
        "colab": {
          "base_uri": "https://localhost:8080/",
          "height": 443
        },
        "id": "afh1cYBsCX-v",
        "outputId": "1276f095-701b-4c7c-db76-167c640b5f0a"
      },
      "execution_count": 45,
      "outputs": [
        {
          "output_type": "execute_result",
          "data": {
            "text/plain": [
              "       key_product_type  key_item_height  key_item_length  key_item_weight  \\\n",
              "1                   155             2.00             2.50              NaN   \n",
              "3                   230              NaN              NaN              NaN   \n",
              "4                   139             9.33             2.75         0.438000   \n",
              "6                   187             1.97             4.72         0.040000   \n",
              "8                   267             2.00             5.00         1.000000   \n",
              "...                 ...              ...              ...              ...   \n",
              "36795               185              NaN              NaN              NaN   \n",
              "36796               270             8.50            14.06        18.920000   \n",
              "36799               166             7.00            11.88         0.881849   \n",
              "36800               154              NaN              NaN              NaN   \n",
              "36802               127              NaN              NaN        11.023113   \n",
              "\n",
              "       key_item_width  cand_product_type  cand_item_height  cand_item_length  \\\n",
              "1                0.10                116              0.30              6.75   \n",
              "3                 NaN                192              2.36             10.24   \n",
              "4                7.50                139              8.50             11.75   \n",
              "6                0.39                187              4.00              8.50   \n",
              "8                4.00                267               NaN               NaN   \n",
              "...               ...                ...               ...               ...   \n",
              "36795             NaN                160               NaN               NaN   \n",
              "36796           15.00                155              8.00             15.00   \n",
              "36799           11.06                166              9.50             13.12   \n",
              "36800             NaN                269               NaN               NaN   \n",
              "36802             NaN                127               NaN               NaN   \n",
              "\n",
              "       cand_item_weight  cand_item_width  type_change  \n",
              "1              0.110231            4.500           39  \n",
              "3              3.480000           20.290           38  \n",
              "4                   NaN            9.875            0  \n",
              "6                   NaN            5.000            0  \n",
              "8                   NaN              NaN            0  \n",
              "...                 ...              ...          ...  \n",
              "36795          0.450000              NaN           25  \n",
              "36796               NaN            4.000          115  \n",
              "36799               NaN           12.370            0  \n",
              "36800          7.000000              NaN         -115  \n",
              "36802          0.937500              NaN            0  \n",
              "\n",
              "[26359 rows x 11 columns]"
            ],
            "text/html": [
              "\n",
              "  <div id=\"df-6678331f-1c90-4123-80dc-aec6c74f8669\" class=\"colab-df-container\">\n",
              "    <div>\n",
              "<style scoped>\n",
              "    .dataframe tbody tr th:only-of-type {\n",
              "        vertical-align: middle;\n",
              "    }\n",
              "\n",
              "    .dataframe tbody tr th {\n",
              "        vertical-align: top;\n",
              "    }\n",
              "\n",
              "    .dataframe thead th {\n",
              "        text-align: right;\n",
              "    }\n",
              "</style>\n",
              "<table border=\"1\" class=\"dataframe\">\n",
              "  <thead>\n",
              "    <tr style=\"text-align: right;\">\n",
              "      <th></th>\n",
              "      <th>key_product_type</th>\n",
              "      <th>key_item_height</th>\n",
              "      <th>key_item_length</th>\n",
              "      <th>key_item_weight</th>\n",
              "      <th>key_item_width</th>\n",
              "      <th>cand_product_type</th>\n",
              "      <th>cand_item_height</th>\n",
              "      <th>cand_item_length</th>\n",
              "      <th>cand_item_weight</th>\n",
              "      <th>cand_item_width</th>\n",
              "      <th>type_change</th>\n",
              "    </tr>\n",
              "  </thead>\n",
              "  <tbody>\n",
              "    <tr>\n",
              "      <th>1</th>\n",
              "      <td>155</td>\n",
              "      <td>2.00</td>\n",
              "      <td>2.50</td>\n",
              "      <td>NaN</td>\n",
              "      <td>0.10</td>\n",
              "      <td>116</td>\n",
              "      <td>0.30</td>\n",
              "      <td>6.75</td>\n",
              "      <td>0.110231</td>\n",
              "      <td>4.500</td>\n",
              "      <td>39</td>\n",
              "    </tr>\n",
              "    <tr>\n",
              "      <th>3</th>\n",
              "      <td>230</td>\n",
              "      <td>NaN</td>\n",
              "      <td>NaN</td>\n",
              "      <td>NaN</td>\n",
              "      <td>NaN</td>\n",
              "      <td>192</td>\n",
              "      <td>2.36</td>\n",
              "      <td>10.24</td>\n",
              "      <td>3.480000</td>\n",
              "      <td>20.290</td>\n",
              "      <td>38</td>\n",
              "    </tr>\n",
              "    <tr>\n",
              "      <th>4</th>\n",
              "      <td>139</td>\n",
              "      <td>9.33</td>\n",
              "      <td>2.75</td>\n",
              "      <td>0.438000</td>\n",
              "      <td>7.50</td>\n",
              "      <td>139</td>\n",
              "      <td>8.50</td>\n",
              "      <td>11.75</td>\n",
              "      <td>NaN</td>\n",
              "      <td>9.875</td>\n",
              "      <td>0</td>\n",
              "    </tr>\n",
              "    <tr>\n",
              "      <th>6</th>\n",
              "      <td>187</td>\n",
              "      <td>1.97</td>\n",
              "      <td>4.72</td>\n",
              "      <td>0.040000</td>\n",
              "      <td>0.39</td>\n",
              "      <td>187</td>\n",
              "      <td>4.00</td>\n",
              "      <td>8.50</td>\n",
              "      <td>NaN</td>\n",
              "      <td>5.000</td>\n",
              "      <td>0</td>\n",
              "    </tr>\n",
              "    <tr>\n",
              "      <th>8</th>\n",
              "      <td>267</td>\n",
              "      <td>2.00</td>\n",
              "      <td>5.00</td>\n",
              "      <td>1.000000</td>\n",
              "      <td>4.00</td>\n",
              "      <td>267</td>\n",
              "      <td>NaN</td>\n",
              "      <td>NaN</td>\n",
              "      <td>NaN</td>\n",
              "      <td>NaN</td>\n",
              "      <td>0</td>\n",
              "    </tr>\n",
              "    <tr>\n",
              "      <th>...</th>\n",
              "      <td>...</td>\n",
              "      <td>...</td>\n",
              "      <td>...</td>\n",
              "      <td>...</td>\n",
              "      <td>...</td>\n",
              "      <td>...</td>\n",
              "      <td>...</td>\n",
              "      <td>...</td>\n",
              "      <td>...</td>\n",
              "      <td>...</td>\n",
              "      <td>...</td>\n",
              "    </tr>\n",
              "    <tr>\n",
              "      <th>36795</th>\n",
              "      <td>185</td>\n",
              "      <td>NaN</td>\n",
              "      <td>NaN</td>\n",
              "      <td>NaN</td>\n",
              "      <td>NaN</td>\n",
              "      <td>160</td>\n",
              "      <td>NaN</td>\n",
              "      <td>NaN</td>\n",
              "      <td>0.450000</td>\n",
              "      <td>NaN</td>\n",
              "      <td>25</td>\n",
              "    </tr>\n",
              "    <tr>\n",
              "      <th>36796</th>\n",
              "      <td>270</td>\n",
              "      <td>8.50</td>\n",
              "      <td>14.06</td>\n",
              "      <td>18.920000</td>\n",
              "      <td>15.00</td>\n",
              "      <td>155</td>\n",
              "      <td>8.00</td>\n",
              "      <td>15.00</td>\n",
              "      <td>NaN</td>\n",
              "      <td>4.000</td>\n",
              "      <td>115</td>\n",
              "    </tr>\n",
              "    <tr>\n",
              "      <th>36799</th>\n",
              "      <td>166</td>\n",
              "      <td>7.00</td>\n",
              "      <td>11.88</td>\n",
              "      <td>0.881849</td>\n",
              "      <td>11.06</td>\n",
              "      <td>166</td>\n",
              "      <td>9.50</td>\n",
              "      <td>13.12</td>\n",
              "      <td>NaN</td>\n",
              "      <td>12.370</td>\n",
              "      <td>0</td>\n",
              "    </tr>\n",
              "    <tr>\n",
              "      <th>36800</th>\n",
              "      <td>154</td>\n",
              "      <td>NaN</td>\n",
              "      <td>NaN</td>\n",
              "      <td>NaN</td>\n",
              "      <td>NaN</td>\n",
              "      <td>269</td>\n",
              "      <td>NaN</td>\n",
              "      <td>NaN</td>\n",
              "      <td>7.000000</td>\n",
              "      <td>NaN</td>\n",
              "      <td>-115</td>\n",
              "    </tr>\n",
              "    <tr>\n",
              "      <th>36802</th>\n",
              "      <td>127</td>\n",
              "      <td>NaN</td>\n",
              "      <td>NaN</td>\n",
              "      <td>11.023113</td>\n",
              "      <td>NaN</td>\n",
              "      <td>127</td>\n",
              "      <td>NaN</td>\n",
              "      <td>NaN</td>\n",
              "      <td>0.937500</td>\n",
              "      <td>NaN</td>\n",
              "      <td>0</td>\n",
              "    </tr>\n",
              "  </tbody>\n",
              "</table>\n",
              "<p>26359 rows × 11 columns</p>\n",
              "</div>\n",
              "    <div class=\"colab-df-buttons\">\n",
              "\n",
              "  <div class=\"colab-df-container\">\n",
              "    <button class=\"colab-df-convert\" onclick=\"convertToInteractive('df-6678331f-1c90-4123-80dc-aec6c74f8669')\"\n",
              "            title=\"Convert this dataframe to an interactive table.\"\n",
              "            style=\"display:none;\">\n",
              "\n",
              "  <svg xmlns=\"http://www.w3.org/2000/svg\" height=\"24px\" viewBox=\"0 -960 960 960\">\n",
              "    <path d=\"M120-120v-720h720v720H120Zm60-500h600v-160H180v160Zm220 220h160v-160H400v160Zm0 220h160v-160H400v160ZM180-400h160v-160H180v160Zm440 0h160v-160H620v160ZM180-180h160v-160H180v160Zm440 0h160v-160H620v160Z\"/>\n",
              "  </svg>\n",
              "    </button>\n",
              "\n",
              "  <style>\n",
              "    .colab-df-container {\n",
              "      display:flex;\n",
              "      gap: 12px;\n",
              "    }\n",
              "\n",
              "    .colab-df-convert {\n",
              "      background-color: #E8F0FE;\n",
              "      border: none;\n",
              "      border-radius: 50%;\n",
              "      cursor: pointer;\n",
              "      display: none;\n",
              "      fill: #1967D2;\n",
              "      height: 32px;\n",
              "      padding: 0 0 0 0;\n",
              "      width: 32px;\n",
              "    }\n",
              "\n",
              "    .colab-df-convert:hover {\n",
              "      background-color: #E2EBFA;\n",
              "      box-shadow: 0px 1px 2px rgba(60, 64, 67, 0.3), 0px 1px 3px 1px rgba(60, 64, 67, 0.15);\n",
              "      fill: #174EA6;\n",
              "    }\n",
              "\n",
              "    .colab-df-buttons div {\n",
              "      margin-bottom: 4px;\n",
              "    }\n",
              "\n",
              "    [theme=dark] .colab-df-convert {\n",
              "      background-color: #3B4455;\n",
              "      fill: #D2E3FC;\n",
              "    }\n",
              "\n",
              "    [theme=dark] .colab-df-convert:hover {\n",
              "      background-color: #434B5C;\n",
              "      box-shadow: 0px 1px 3px 1px rgba(0, 0, 0, 0.15);\n",
              "      filter: drop-shadow(0px 1px 2px rgba(0, 0, 0, 0.3));\n",
              "      fill: #FFFFFF;\n",
              "    }\n",
              "  </style>\n",
              "\n",
              "    <script>\n",
              "      const buttonEl =\n",
              "        document.querySelector('#df-6678331f-1c90-4123-80dc-aec6c74f8669 button.colab-df-convert');\n",
              "      buttonEl.style.display =\n",
              "        google.colab.kernel.accessAllowed ? 'block' : 'none';\n",
              "\n",
              "      async function convertToInteractive(key) {\n",
              "        const element = document.querySelector('#df-6678331f-1c90-4123-80dc-aec6c74f8669');\n",
              "        const dataTable =\n",
              "          await google.colab.kernel.invokeFunction('convertToInteractive',\n",
              "                                                    [key], {});\n",
              "        if (!dataTable) return;\n",
              "\n",
              "        const docLinkHtml = 'Like what you see? Visit the ' +\n",
              "          '<a target=\"_blank\" href=https://colab.research.google.com/notebooks/data_table.ipynb>data table notebook</a>'\n",
              "          + ' to learn more about interactive tables.';\n",
              "        element.innerHTML = '';\n",
              "        dataTable['output_type'] = 'display_data';\n",
              "        await google.colab.output.renderOutput(dataTable, element);\n",
              "        const docLink = document.createElement('div');\n",
              "        docLink.innerHTML = docLinkHtml;\n",
              "        element.appendChild(docLink);\n",
              "      }\n",
              "    </script>\n",
              "  </div>\n",
              "\n",
              "\n",
              "<div id=\"df-3274b1b7-6349-4058-b22c-4c78bc194c8c\">\n",
              "  <button class=\"colab-df-quickchart\" onclick=\"quickchart('df-3274b1b7-6349-4058-b22c-4c78bc194c8c')\"\n",
              "            title=\"Suggest charts\"\n",
              "            style=\"display:none;\">\n",
              "\n",
              "<svg xmlns=\"http://www.w3.org/2000/svg\" height=\"24px\"viewBox=\"0 0 24 24\"\n",
              "     width=\"24px\">\n",
              "    <g>\n",
              "        <path d=\"M19 3H5c-1.1 0-2 .9-2 2v14c0 1.1.9 2 2 2h14c1.1 0 2-.9 2-2V5c0-1.1-.9-2-2-2zM9 17H7v-7h2v7zm4 0h-2V7h2v10zm4 0h-2v-4h2v4z\"/>\n",
              "    </g>\n",
              "</svg>\n",
              "  </button>\n",
              "\n",
              "<style>\n",
              "  .colab-df-quickchart {\n",
              "      --bg-color: #E8F0FE;\n",
              "      --fill-color: #1967D2;\n",
              "      --hover-bg-color: #E2EBFA;\n",
              "      --hover-fill-color: #174EA6;\n",
              "      --disabled-fill-color: #AAA;\n",
              "      --disabled-bg-color: #DDD;\n",
              "  }\n",
              "\n",
              "  [theme=dark] .colab-df-quickchart {\n",
              "      --bg-color: #3B4455;\n",
              "      --fill-color: #D2E3FC;\n",
              "      --hover-bg-color: #434B5C;\n",
              "      --hover-fill-color: #FFFFFF;\n",
              "      --disabled-bg-color: #3B4455;\n",
              "      --disabled-fill-color: #666;\n",
              "  }\n",
              "\n",
              "  .colab-df-quickchart {\n",
              "    background-color: var(--bg-color);\n",
              "    border: none;\n",
              "    border-radius: 50%;\n",
              "    cursor: pointer;\n",
              "    display: none;\n",
              "    fill: var(--fill-color);\n",
              "    height: 32px;\n",
              "    padding: 0;\n",
              "    width: 32px;\n",
              "  }\n",
              "\n",
              "  .colab-df-quickchart:hover {\n",
              "    background-color: var(--hover-bg-color);\n",
              "    box-shadow: 0 1px 2px rgba(60, 64, 67, 0.3), 0 1px 3px 1px rgba(60, 64, 67, 0.15);\n",
              "    fill: var(--button-hover-fill-color);\n",
              "  }\n",
              "\n",
              "  .colab-df-quickchart-complete:disabled,\n",
              "  .colab-df-quickchart-complete:disabled:hover {\n",
              "    background-color: var(--disabled-bg-color);\n",
              "    fill: var(--disabled-fill-color);\n",
              "    box-shadow: none;\n",
              "  }\n",
              "\n",
              "  .colab-df-spinner {\n",
              "    border: 2px solid var(--fill-color);\n",
              "    border-color: transparent;\n",
              "    border-bottom-color: var(--fill-color);\n",
              "    animation:\n",
              "      spin 1s steps(1) infinite;\n",
              "  }\n",
              "\n",
              "  @keyframes spin {\n",
              "    0% {\n",
              "      border-color: transparent;\n",
              "      border-bottom-color: var(--fill-color);\n",
              "      border-left-color: var(--fill-color);\n",
              "    }\n",
              "    20% {\n",
              "      border-color: transparent;\n",
              "      border-left-color: var(--fill-color);\n",
              "      border-top-color: var(--fill-color);\n",
              "    }\n",
              "    30% {\n",
              "      border-color: transparent;\n",
              "      border-left-color: var(--fill-color);\n",
              "      border-top-color: var(--fill-color);\n",
              "      border-right-color: var(--fill-color);\n",
              "    }\n",
              "    40% {\n",
              "      border-color: transparent;\n",
              "      border-right-color: var(--fill-color);\n",
              "      border-top-color: var(--fill-color);\n",
              "    }\n",
              "    60% {\n",
              "      border-color: transparent;\n",
              "      border-right-color: var(--fill-color);\n",
              "    }\n",
              "    80% {\n",
              "      border-color: transparent;\n",
              "      border-right-color: var(--fill-color);\n",
              "      border-bottom-color: var(--fill-color);\n",
              "    }\n",
              "    90% {\n",
              "      border-color: transparent;\n",
              "      border-bottom-color: var(--fill-color);\n",
              "    }\n",
              "  }\n",
              "</style>\n",
              "\n",
              "  <script>\n",
              "    async function quickchart(key) {\n",
              "      const quickchartButtonEl =\n",
              "        document.querySelector('#' + key + ' button');\n",
              "      quickchartButtonEl.disabled = true;  // To prevent multiple clicks.\n",
              "      quickchartButtonEl.classList.add('colab-df-spinner');\n",
              "      try {\n",
              "        const charts = await google.colab.kernel.invokeFunction(\n",
              "            'suggestCharts', [key], {});\n",
              "      } catch (error) {\n",
              "        console.error('Error during call to suggestCharts:', error);\n",
              "      }\n",
              "      quickchartButtonEl.classList.remove('colab-df-spinner');\n",
              "      quickchartButtonEl.classList.add('colab-df-quickchart-complete');\n",
              "    }\n",
              "    (() => {\n",
              "      let quickchartButtonEl =\n",
              "        document.querySelector('#df-3274b1b7-6349-4058-b22c-4c78bc194c8c button');\n",
              "      quickchartButtonEl.style.display =\n",
              "        google.colab.kernel.accessAllowed ? 'block' : 'none';\n",
              "    })();\n",
              "  </script>\n",
              "</div>\n",
              "\n",
              "    </div>\n",
              "  </div>\n"
            ],
            "application/vnd.google.colaboratory.intrinsic+json": {
              "type": "dataframe",
              "summary": "{\n  \"name\": \"X[X\",\n  \"rows\": 26359,\n  \"fields\": [\n    {\n      \"column\": \"key_product_type\",\n      \"properties\": {\n        \"dtype\": \"number\",\n        \"std\": 85,\n        \"min\": 0,\n        \"max\": 296,\n        \"num_unique_values\": 146,\n        \"samples\": [\n          110,\n          18,\n          63\n        ],\n        \"semantic_type\": \"\",\n        \"description\": \"\"\n      }\n    },\n    {\n      \"column\": \"key_item_height\",\n      \"properties\": {\n        \"dtype\": \"number\",\n        \"std\": 9.505033938357165,\n        \"min\": 0.0,\n        \"max\": 108.0,\n        \"num_unique_values\": 422,\n        \"samples\": [\n          21.3,\n          1.57,\n          12.48\n        ],\n        \"semantic_type\": \"\",\n        \"description\": \"\"\n      }\n    },\n    {\n      \"column\": \"key_item_length\",\n      \"properties\": {\n        \"dtype\": \"number\",\n        \"std\": 20.547031403568983,\n        \"min\": 0.0,\n        \"max\": 360.0,\n        \"num_unique_values\": 492,\n        \"samples\": [\n          74.80314953,\n          5.511811018,\n          3.425196847\n        ],\n        \"semantic_type\": \"\",\n        \"description\": \"\"\n      }\n    },\n    {\n      \"column\": \"key_item_weight\",\n      \"properties\": {\n        \"dtype\": \"number\",\n        \"std\": 45.13239045964315,\n        \"min\": 0.0,\n        \"max\": 881.849048,\n        \"num_unique_values\": 447,\n        \"samples\": [\n          5.3,\n          0.3858,\n          0.299828676\n        ],\n        \"semantic_type\": \"\",\n        \"description\": \"\"\n      }\n    },\n    {\n      \"column\": \"key_item_width\",\n      \"properties\": {\n        \"dtype\": \"number\",\n        \"std\": 16.215236406440233,\n        \"min\": 0.0,\n        \"max\": 216.0,\n        \"num_unique_values\": 447,\n        \"samples\": [\n          0.03937,\n          3.897637791,\n          1.6\n        ],\n        \"semantic_type\": \"\",\n        \"description\": \"\"\n      }\n    },\n    {\n      \"column\": \"cand_product_type\",\n      \"properties\": {\n        \"dtype\": \"number\",\n        \"std\": 83,\n        \"min\": 0,\n        \"max\": 296,\n        \"num_unique_values\": 267,\n        \"samples\": [\n          51,\n          216,\n          195\n        ],\n        \"semantic_type\": \"\",\n        \"description\": \"\"\n      }\n    },\n    {\n      \"column\": \"cand_item_height\",\n      \"properties\": {\n        \"dtype\": \"number\",\n        \"std\": 14.554578117196082,\n        \"min\": 0.0,\n        \"max\": 984.25,\n        \"num_unique_values\": 1598,\n        \"samples\": [\n          7.086614166,\n          30.0,\n          0.023622047\n        ],\n        \"semantic_type\": \"\",\n        \"description\": \"\"\n      }\n    },\n    {\n      \"column\": \"cand_item_length\",\n      \"properties\": {\n        \"dtype\": \"number\",\n        \"std\": 369.5736050253927,\n        \"min\": 0.0,\n        \"max\": 39370.0,\n        \"num_unique_values\": 1801,\n        \"samples\": [\n          35.875,\n          37.08661414,\n          7.625\n        ],\n        \"semantic_type\": \"\",\n        \"description\": \"\"\n      }\n    },\n    {\n      \"column\": \"cand_item_weight\",\n      \"properties\": {\n        \"dtype\": \"number\",\n        \"std\": 27.989408069883535,\n        \"min\": 0.0,\n        \"max\": 1670.0,\n        \"num_unique_values\": 1651,\n        \"samples\": [\n          1.44,\n          0.65,\n          0.793664143\n        ],\n        \"semantic_type\": \"\",\n        \"description\": \"\"\n      }\n    },\n    {\n      \"column\": \"cand_item_width\",\n      \"properties\": {\n        \"dtype\": \"number\",\n        \"std\": 203.1187441314684,\n        \"min\": 0.0,\n        \"max\": 21653.5,\n        \"num_unique_values\": 1608,\n        \"samples\": [\n          11.0,\n          0.13,\n          28.2\n        ],\n        \"semantic_type\": \"\",\n        \"description\": \"\"\n      }\n    },\n    {\n      \"column\": \"type_change\",\n      \"properties\": {\n        \"dtype\": \"number\",\n        \"std\": 85,\n        \"min\": -277,\n        \"max\": 280,\n        \"num_unique_values\": 522,\n        \"samples\": [\n          57,\n          244,\n          74\n        ],\n        \"semantic_type\": \"\",\n        \"description\": \"\"\n      }\n    }\n  ]\n}"
            }
          },
          "metadata": {},
          "execution_count": 45
        }
      ]
    },
    {
      "cell_type": "markdown",
      "source": [
        "- Too many NaN values. Filled them with key_product_type average and cand_product_type average."
      ],
      "metadata": {
        "id": "YvJdqA8Sr5BU"
      }
    },
    {
      "cell_type": "markdown",
      "metadata": {
        "id": "MAod3ayh4Cuo"
      },
      "source": [
        "### 2.3 <a name=\"23\">Train - Validation Datasets</a>\n",
        "(<a href=\"#2\">Go to Data Processing</a>)\n",
        "\n",
        "We already have training and test datasets, however the test dataset is missing the labels - the goal of the project is to predict these labels.\n",
        "\n",
        "To produce a validation set to evaluate model performance before submitting  split the training dataset into train and validation. Validation data you get here will be used later in section 3 to tune your classifier."
      ]
    },
    {
      "cell_type": "markdown",
      "metadata": {
        "id": "xW_8mZ4i4Cur"
      },
      "source": [
        "### 2.4 <a name=\"24\">Data processing with Pipeline</a>\n",
        "\n",
        "Build a [pipeline](https://scikit-learn.org/stable/modules/generated/sklearn.pipeline.Pipeline.html)  to impute the missing values and scale the numerical features, and finally train the classifier on the imputed and scaled dataset.\n"
      ]
    },
    {
      "cell_type": "code",
      "source": [
        "# Filling NaN values with their product type averages for candidate products\n",
        "def remove_cand_NaN(df):\n",
        "  ls = []\n",
        "  for i in df['cand_product_type'].unique():\n",
        "    ls.append(df[df['cand_product_type'] == i])\n",
        "\n",
        "  for data in ls:\n",
        "    for col in ['cand_item_height', 'cand_item_length', 'cand_item_weight', 'cand_item_width']:\n",
        "      data[col].fillna(data[col].mean(), inplace = True)\n",
        "  return pd.concat(ls)\n",
        "# Filling NaN values with their product type averages for key products\n",
        "def remove_key_NaN(df):\n",
        "  ls = []\n",
        "  for i in X['key_product_type'].unique():\n",
        "    ls.append(df[df['key_product_type'] == i])\n",
        "\n",
        "  for data in ls:\n",
        "    for col in ['key_item_height', 'key_item_length', 'key_item_weight', 'key_item_width']:\n",
        "      data[col].fillna(data[col].mean(), inplace = True)\n",
        "  return pd.concat(ls)"
      ],
      "metadata": {
        "id": "3jkg4QfCIoRT"
      },
      "execution_count": 46,
      "outputs": []
    },
    {
      "cell_type": "code",
      "source": [
        "X = remove_cand_NaN(X)\n",
        "X = remove_key_NaN(X)\n",
        "X.fillna(0, inplace = True)"
      ],
      "metadata": {
        "colab": {
          "base_uri": "https://localhost:8080/"
        },
        "id": "hksvkgvRIpN3",
        "outputId": "312ed807-2fa9-41a6-8d61-3e6ba5de498f"
      },
      "execution_count": 47,
      "outputs": [
        {
          "output_type": "stream",
          "name": "stderr",
          "text": [
            "<ipython-input-46-0045846c2b78>:9: SettingWithCopyWarning: \n",
            "A value is trying to be set on a copy of a slice from a DataFrame\n",
            "\n",
            "See the caveats in the documentation: https://pandas.pydata.org/pandas-docs/stable/user_guide/indexing.html#returning-a-view-versus-a-copy\n",
            "  data[col].fillna(data[col].mean(), inplace = True)\n",
            "<ipython-input-46-0045846c2b78>:19: SettingWithCopyWarning: \n",
            "A value is trying to be set on a copy of a slice from a DataFrame\n",
            "\n",
            "See the caveats in the documentation: https://pandas.pydata.org/pandas-docs/stable/user_guide/indexing.html#returning-a-view-versus-a-copy\n",
            "  data[col].fillna(data[col].mean(), inplace = True)\n"
          ]
        }
      ]
    },
    {
      "cell_type": "code",
      "source": [
        "X.info()"
      ],
      "metadata": {
        "colab": {
          "base_uri": "https://localhost:8080/"
        },
        "id": "98agrhTcuQWp",
        "outputId": "0f2b48bc-f09d-4310-fcbf-053e547ad59f"
      },
      "execution_count": 48,
      "outputs": [
        {
          "output_type": "stream",
          "name": "stdout",
          "text": [
            "<class 'pandas.core.frame.DataFrame'>\n",
            "Int64Index: 36803 entries, 0 to 36522\n",
            "Data columns (total 11 columns):\n",
            " #   Column             Non-Null Count  Dtype  \n",
            "---  ------             --------------  -----  \n",
            " 0   key_product_type   36803 non-null  int64  \n",
            " 1   key_item_height    36803 non-null  float64\n",
            " 2   key_item_length    36803 non-null  float64\n",
            " 3   key_item_weight    36803 non-null  float64\n",
            " 4   key_item_width     36803 non-null  float64\n",
            " 5   cand_product_type  36803 non-null  int64  \n",
            " 6   cand_item_height   36803 non-null  float64\n",
            " 7   cand_item_length   36803 non-null  float64\n",
            " 8   cand_item_weight   36803 non-null  float64\n",
            " 9   cand_item_width    36803 non-null  float64\n",
            " 10  type_change        36803 non-null  int64  \n",
            "dtypes: float64(8), int64(3)\n",
            "memory usage: 3.4 MB\n"
          ]
        }
      ]
    },
    {
      "cell_type": "markdown",
      "source": [
        "- Shouldn't contain any NaN values"
      ],
      "metadata": {
        "id": "LInQrwn4sN3i"
      }
    },
    {
      "cell_type": "code",
      "execution_count": 59,
      "metadata": {
        "id": "3V5aj4mW4Cuo"
      },
      "outputs": [],
      "source": [
        "# Splitting data into training and validation set\n",
        "\n",
        "Xtrain, Xtest, ytrain, ytest = train_test_split(X, y, test_size = 0.2, random_state = 42)\n",
        "# Uncomment following line and comment Xtest line to train model with validation set.\n",
        "# Xtrain, ytrain = X, y\n",
        "\n",
        "# Using StandardScaler for transforming data\n",
        "\n",
        "s_train = StandardScaler()\n",
        "Xtrain = s_train.fit_transform(Xtrain)\n",
        "Xtest = s_train.transform(Xtest)"
      ]
    },
    {
      "cell_type": "code",
      "execution_count": 51,
      "metadata": {
        "id": "-faYi9dK4Cut"
      },
      "outputs": [],
      "source": [
        "# Implement here\n",
        "# The transformations I made were too complex to use Sci-Kit Learn's Pipeline functionality."
      ]
    },
    {
      "cell_type": "markdown",
      "metadata": {
        "id": "KZ49qrqB4Cut"
      },
      "source": [
        "## 3. <a name=\"3\">Train (and Tune) a Classifier</a> (Implement)\n",
        "(<a href=\"#0\">Go to top</a>)\n",
        "\n",
        "Train and tune the classifier"
      ]
    },
    {
      "cell_type": "code",
      "source": [
        "# Using a voting classifier model which includes HistGradientBoostingClassifier, LogisticRegression, RandomForestClassifier and\n",
        "# AdaBoostClassifier\n",
        "\n",
        "estimators = []\n",
        "estimators.append(('XGBoost', HistGradientBoostingClassifier()))\n",
        "estimators.append(('LR', LogisticRegression()))\n",
        "estimators.append(('RF', RandomForestClassifier()))\n",
        "estimators.append(('AB', AdaBoostClassifier()))\n",
        "classifier = VotingClassifier(estimators = estimators, voting = 'hard')\n",
        "classifier.fit(Xtrain, ytrain)"
      ],
      "metadata": {
        "colab": {
          "base_uri": "https://localhost:8080/",
          "height": 109
        },
        "id": "-B6LD0MCYCUX",
        "outputId": "e762b6e5-1763-481c-f188-acdc21ef6488"
      },
      "execution_count": 61,
      "outputs": [
        {
          "output_type": "execute_result",
          "data": {
            "text/plain": [
              "VotingClassifier(estimators=[('XGBoost', HistGradientBoostingClassifier()),\n",
              "                             ('LR', LogisticRegression()),\n",
              "                             ('RF', RandomForestClassifier()),\n",
              "                             ('AB', AdaBoostClassifier())])"
            ],
            "text/html": [
              "<style>#sk-container-id-4 {color: black;background-color: white;}#sk-container-id-4 pre{padding: 0;}#sk-container-id-4 div.sk-toggleable {background-color: white;}#sk-container-id-4 label.sk-toggleable__label {cursor: pointer;display: block;width: 100%;margin-bottom: 0;padding: 0.3em;box-sizing: border-box;text-align: center;}#sk-container-id-4 label.sk-toggleable__label-arrow:before {content: \"▸\";float: left;margin-right: 0.25em;color: #696969;}#sk-container-id-4 label.sk-toggleable__label-arrow:hover:before {color: black;}#sk-container-id-4 div.sk-estimator:hover label.sk-toggleable__label-arrow:before {color: black;}#sk-container-id-4 div.sk-toggleable__content {max-height: 0;max-width: 0;overflow: hidden;text-align: left;background-color: #f0f8ff;}#sk-container-id-4 div.sk-toggleable__content pre {margin: 0.2em;color: black;border-radius: 0.25em;background-color: #f0f8ff;}#sk-container-id-4 input.sk-toggleable__control:checked~div.sk-toggleable__content {max-height: 200px;max-width: 100%;overflow: auto;}#sk-container-id-4 input.sk-toggleable__control:checked~label.sk-toggleable__label-arrow:before {content: \"▾\";}#sk-container-id-4 div.sk-estimator input.sk-toggleable__control:checked~label.sk-toggleable__label {background-color: #d4ebff;}#sk-container-id-4 div.sk-label input.sk-toggleable__control:checked~label.sk-toggleable__label {background-color: #d4ebff;}#sk-container-id-4 input.sk-hidden--visually {border: 0;clip: rect(1px 1px 1px 1px);clip: rect(1px, 1px, 1px, 1px);height: 1px;margin: -1px;overflow: hidden;padding: 0;position: absolute;width: 1px;}#sk-container-id-4 div.sk-estimator {font-family: monospace;background-color: #f0f8ff;border: 1px dotted black;border-radius: 0.25em;box-sizing: border-box;margin-bottom: 0.5em;}#sk-container-id-4 div.sk-estimator:hover {background-color: #d4ebff;}#sk-container-id-4 div.sk-parallel-item::after {content: \"\";width: 100%;border-bottom: 1px solid gray;flex-grow: 1;}#sk-container-id-4 div.sk-label:hover label.sk-toggleable__label {background-color: #d4ebff;}#sk-container-id-4 div.sk-serial::before {content: \"\";position: absolute;border-left: 1px solid gray;box-sizing: border-box;top: 0;bottom: 0;left: 50%;z-index: 0;}#sk-container-id-4 div.sk-serial {display: flex;flex-direction: column;align-items: center;background-color: white;padding-right: 0.2em;padding-left: 0.2em;position: relative;}#sk-container-id-4 div.sk-item {position: relative;z-index: 1;}#sk-container-id-4 div.sk-parallel {display: flex;align-items: stretch;justify-content: center;background-color: white;position: relative;}#sk-container-id-4 div.sk-item::before, #sk-container-id-4 div.sk-parallel-item::before {content: \"\";position: absolute;border-left: 1px solid gray;box-sizing: border-box;top: 0;bottom: 0;left: 50%;z-index: -1;}#sk-container-id-4 div.sk-parallel-item {display: flex;flex-direction: column;z-index: 1;position: relative;background-color: white;}#sk-container-id-4 div.sk-parallel-item:first-child::after {align-self: flex-end;width: 50%;}#sk-container-id-4 div.sk-parallel-item:last-child::after {align-self: flex-start;width: 50%;}#sk-container-id-4 div.sk-parallel-item:only-child::after {width: 0;}#sk-container-id-4 div.sk-dashed-wrapped {border: 1px dashed gray;margin: 0 0.4em 0.5em 0.4em;box-sizing: border-box;padding-bottom: 0.4em;background-color: white;}#sk-container-id-4 div.sk-label label {font-family: monospace;font-weight: bold;display: inline-block;line-height: 1.2em;}#sk-container-id-4 div.sk-label-container {text-align: center;}#sk-container-id-4 div.sk-container {/* jupyter's `normalize.less` sets `[hidden] { display: none; }` but bootstrap.min.css set `[hidden] { display: none !important; }` so we also need the `!important` here to be able to override the default hidden behavior on the sphinx rendered scikit-learn.org. See: https://github.com/scikit-learn/scikit-learn/issues/21755 */display: inline-block !important;position: relative;}#sk-container-id-4 div.sk-text-repr-fallback {display: none;}</style><div id=\"sk-container-id-4\" class=\"sk-top-container\"><div class=\"sk-text-repr-fallback\"><pre>VotingClassifier(estimators=[(&#x27;XGBoost&#x27;, HistGradientBoostingClassifier()),\n",
              "                             (&#x27;LR&#x27;, LogisticRegression()),\n",
              "                             (&#x27;RF&#x27;, RandomForestClassifier()),\n",
              "                             (&#x27;AB&#x27;, AdaBoostClassifier())])</pre><b>In a Jupyter environment, please rerun this cell to show the HTML representation or trust the notebook. <br />On GitHub, the HTML representation is unable to render, please try loading this page with nbviewer.org.</b></div><div class=\"sk-container\" hidden><div class=\"sk-item sk-dashed-wrapped\"><div class=\"sk-label-container\"><div class=\"sk-label sk-toggleable\"><input class=\"sk-toggleable__control sk-hidden--visually\" id=\"sk-estimator-id-16\" type=\"checkbox\" ><label for=\"sk-estimator-id-16\" class=\"sk-toggleable__label sk-toggleable__label-arrow\">VotingClassifier</label><div class=\"sk-toggleable__content\"><pre>VotingClassifier(estimators=[(&#x27;XGBoost&#x27;, HistGradientBoostingClassifier()),\n",
              "                             (&#x27;LR&#x27;, LogisticRegression()),\n",
              "                             (&#x27;RF&#x27;, RandomForestClassifier()),\n",
              "                             (&#x27;AB&#x27;, AdaBoostClassifier())])</pre></div></div></div><div class=\"sk-parallel\"><div class=\"sk-parallel-item\"><div class=\"sk-item\"><div class=\"sk-label-container\"><div class=\"sk-label sk-toggleable\"><label>XGBoost</label></div></div><div class=\"sk-serial\"><div class=\"sk-item\"><div class=\"sk-estimator sk-toggleable\"><input class=\"sk-toggleable__control sk-hidden--visually\" id=\"sk-estimator-id-17\" type=\"checkbox\" ><label for=\"sk-estimator-id-17\" class=\"sk-toggleable__label sk-toggleable__label-arrow\">HistGradientBoostingClassifier</label><div class=\"sk-toggleable__content\"><pre>HistGradientBoostingClassifier()</pre></div></div></div></div></div></div><div class=\"sk-parallel-item\"><div class=\"sk-item\"><div class=\"sk-label-container\"><div class=\"sk-label sk-toggleable\"><label>LR</label></div></div><div class=\"sk-serial\"><div class=\"sk-item\"><div class=\"sk-estimator sk-toggleable\"><input class=\"sk-toggleable__control sk-hidden--visually\" id=\"sk-estimator-id-18\" type=\"checkbox\" ><label for=\"sk-estimator-id-18\" class=\"sk-toggleable__label sk-toggleable__label-arrow\">LogisticRegression</label><div class=\"sk-toggleable__content\"><pre>LogisticRegression()</pre></div></div></div></div></div></div><div class=\"sk-parallel-item\"><div class=\"sk-item\"><div class=\"sk-label-container\"><div class=\"sk-label sk-toggleable\"><label>RF</label></div></div><div class=\"sk-serial\"><div class=\"sk-item\"><div class=\"sk-estimator sk-toggleable\"><input class=\"sk-toggleable__control sk-hidden--visually\" id=\"sk-estimator-id-19\" type=\"checkbox\" ><label for=\"sk-estimator-id-19\" class=\"sk-toggleable__label sk-toggleable__label-arrow\">RandomForestClassifier</label><div class=\"sk-toggleable__content\"><pre>RandomForestClassifier()</pre></div></div></div></div></div></div><div class=\"sk-parallel-item\"><div class=\"sk-item\"><div class=\"sk-label-container\"><div class=\"sk-label sk-toggleable\"><label>AB</label></div></div><div class=\"sk-serial\"><div class=\"sk-item\"><div class=\"sk-estimator sk-toggleable\"><input class=\"sk-toggleable__control sk-hidden--visually\" id=\"sk-estimator-id-20\" type=\"checkbox\" ><label for=\"sk-estimator-id-20\" class=\"sk-toggleable__label sk-toggleable__label-arrow\">AdaBoostClassifier</label><div class=\"sk-toggleable__content\"><pre>AdaBoostClassifier()</pre></div></div></div></div></div></div></div></div></div></div>"
            ]
          },
          "metadata": {},
          "execution_count": 61
        }
      ]
    },
    {
      "cell_type": "code",
      "source": [
        "ypred = classifier.predict(Xtest)\n",
        "print(classification_report(ytest, ypred))"
      ],
      "metadata": {
        "colab": {
          "base_uri": "https://localhost:8080/"
        },
        "id": "J0rO5UGJYJER",
        "outputId": "a73e8fb5-a855-413c-bb52-e7eb5bc620dd"
      },
      "execution_count": 54,
      "outputs": [
        {
          "output_type": "stream",
          "name": "stdout",
          "text": [
            "              precision    recall  f1-score   support\n",
            "\n",
            "           0       0.51      0.42      0.46      3637\n",
            "           1       0.52      0.61      0.56      3724\n",
            "\n",
            "    accuracy                           0.51      7361\n",
            "   macro avg       0.51      0.51      0.51      7361\n",
            "weighted avg       0.51      0.51      0.51      7361\n",
            "\n"
          ]
        }
      ]
    },
    {
      "cell_type": "code",
      "source": [
        "# run this cell only to save trained model.\n",
        "with open('trained_model.pkl', 'wb+') as f:\n",
        "  pickle.dump(classifier, f)"
      ],
      "metadata": {
        "id": "4GlCGd5OwiIZ"
      },
      "execution_count": 62,
      "outputs": []
    },
    {
      "cell_type": "markdown",
      "metadata": {
        "id": "cl2smdli4Cuu"
      },
      "source": [
        "## 4. <a name=\"4\">Make Predictions on the Test Dataset</a> (Implement)\n",
        "(<a href=\"#0\">Go to top</a>)\n",
        "\n",
        "Use the trained classifier to predict the labels on the test set. Test accuracy would be displayed upon a valid submission to the leaderboard."
      ]
    },
    {
      "cell_type": "code",
      "source": [
        "s_test = StandardScaler() # Scaler for testing data\n",
        "# transforming testing set for prediction\n",
        "test_data['key_product_type'] = test_data['key_product_type'].apply(lambda x: transform[x])\n",
        "test_data['cand_product_type'] = test_data['cand_product_type'].apply(lambda x: transform[x])\n",
        "test_data['type_change'] = test_data['key_product_type'] - test_data['cand_product_type']\n",
        "test_data = remove_key_NaN(test_data)\n",
        "test_data = remove_cand_NaN(test_data)\n",
        "test_data.fillna(0, inplace = True)\n",
        "test_data = s_test.fit_transform(test_data)"
      ],
      "metadata": {
        "colab": {
          "base_uri": "https://localhost:8080/"
        },
        "id": "7PbDNBJbk4kR",
        "outputId": "45c9b399-cd2a-4b98-935f-5ad631015338"
      },
      "execution_count": 67,
      "outputs": [
        {
          "output_type": "stream",
          "name": "stderr",
          "text": [
            "<ipython-input-46-0045846c2b78>:19: SettingWithCopyWarning: \n",
            "A value is trying to be set on a copy of a slice from a DataFrame\n",
            "\n",
            "See the caveats in the documentation: https://pandas.pydata.org/pandas-docs/stable/user_guide/indexing.html#returning-a-view-versus-a-copy\n",
            "  data[col].fillna(data[col].mean(), inplace = True)\n",
            "<ipython-input-46-0045846c2b78>:9: SettingWithCopyWarning: \n",
            "A value is trying to be set on a copy of a slice from a DataFrame\n",
            "\n",
            "See the caveats in the documentation: https://pandas.pydata.org/pandas-docs/stable/user_guide/indexing.html#returning-a-view-versus-a-copy\n",
            "  data[col].fillna(data[col].mean(), inplace = True)\n"
          ]
        }
      ]
    },
    {
      "cell_type": "code",
      "source": [
        "# Loading model for predicting test data\n",
        "with open('trained_model.pkl', 'rb+') as f:\n",
        "  model = pickle.load(f)\n",
        "test_pred = model.predict(test_data)"
      ],
      "metadata": {
        "id": "rPt73_9sp9P_"
      },
      "execution_count": 68,
      "outputs": []
    },
    {
      "cell_type": "code",
      "source": [
        "# Visualizing results. NaN values in test set affect results.\n",
        "plt.hist(test_pred)"
      ],
      "metadata": {
        "colab": {
          "base_uri": "https://localhost:8080/",
          "height": 426
        },
        "id": "yj-LfhXowszH",
        "outputId": "d3e48aa6-1bae-41d0-83ef-e2533f4fc67a"
      },
      "execution_count": 69,
      "outputs": [
        {
          "output_type": "execute_result",
          "data": {
            "text/plain": [
              "(array([13839.,     0.,     0.,     0.,     0.,     0.,     0.,     0.,\n",
              "            0.,  1935.]),\n",
              " array([0. , 0.1, 0.2, 0.3, 0.4, 0.5, 0.6, 0.7, 0.8, 0.9, 1. ]),\n",
              " <BarContainer object of 10 artists>)"
            ]
          },
          "metadata": {},
          "execution_count": 69
        },
        {
          "output_type": "display_data",
          "data": {
            "text/plain": [
              "<Figure size 750x350 with 1 Axes>"
            ],
            "image/png": "[encoded data removed]"
          },
          "metadata": {}
        }
      ]
    },
    {
      "cell_type": "code",
      "source": [],
      "metadata": {
        "id": "mlXSKovNxfFc"
      },
      "execution_count": null,
      "outputs": []
    }
  ],
  "metadata": {
    "kernelspec": {
      "display_name": "conda_pytorch_p39",
      "language": "python",
      "name": "conda_pytorch_p39"
    },
    "language_info": {
      "codemirror_mode": {
        "name": "ipython",
        "version": 3
      },
      "file_extension": ".py",
      "mimetype": "text/x-python",
      "name": "python",
      "nbconvert_exporter": "python",
      "pygments_lexer": "ipython3",
      "version": "3.9.13"
    },
    "colab": {
      "provenance": []
    }
  },
  "nbformat": 4,
  "nbformat_minor": 0
}